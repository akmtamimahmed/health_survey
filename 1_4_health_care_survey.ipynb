{
 "cells": [
  {
   "cell_type": "code",
   "execution_count": 59,
   "id": "35ba4434-6f56-4008-b388-dbb9a1d2be6a",
   "metadata": {},
   "outputs": [],
   "source": [
    "import polars as pl"
   ]
  },
  {
   "cell_type": "markdown",
   "id": "60887d35-6168-4b46-b1d8-077856f351f4",
   "metadata": {},
   "source": [
    "# Why use relative addresses?\n",
    "\n",
    "In this notebook, we will illustrate \n",
    "\n",
    "1. That relative addresses for loading data files works, but\n",
    "2. Using absolute addresses for loading data files *will not*."
   ]
  },
  {
   "cell_type": "markdown",
   "id": "9e71dd7c-a5df-49da-af06-279adb78ab7a",
   "metadata": {},
   "source": [
    "## Problem 1 - Load the `lat_long_example.csv` file using a relative address.\n",
    "\n",
    "**Tasks.**\n",
    "1. Open a terminal, start `nu`, and navigate to the root menu of your first/primary data repository,\n",
    "2. Use `ls **/*` to get the relative address of `lat_long_example.csv`, and\n",
    "3. Use `polars` to load and inspect these data using this relative path."
   ]
  },
  {
   "cell_type": "code",
   "execution_count": 60,
   "id": "449783a9-db7e-4d92-b45a-2ba0088916bd",
   "metadata": {},
   "outputs": [],
   "source": [
    "relative_path = \"./data/lat_long_examples.csv\""
   ]
  },
  {
   "cell_type": "code",
   "execution_count": 61,
   "id": "79d2bdb3-4125-4027-9110-387b75cbfe6d",
   "metadata": {},
   "outputs": [
    {
     "data": {
      "text/html": [
       "<div><style>\n",
       ".dataframe > thead > tr,\n",
       ".dataframe > tbody > tr {\n",
       "  text-align: right;\n",
       "  white-space: pre-wrap;\n",
       "}\n",
       "</style>\n",
       "<small>shape: (2, 7)</small><table border=\"1\" class=\"dataframe\"><thead><tr><th>City 1</th><th>Lat 1</th><th>Long 1</th><th>City 2</th><th>Lat 2</th><th>Long 2</th><th>Distance from Web (km)</th></tr><tr><td>str</td><td>f64</td><td>f64</td><td>str</td><td>f64</td><td>f64</td><td>f64</td></tr></thead><tbody><tr><td>&quot;Winona, MN&quot;</td><td>44.050556</td><td>-91.66833</td><td>&quot;Ames, IA&quot;</td><td>42.018056</td><td>-93.62</td><td>276.48</td></tr><tr><td>&quot;Glagow, Scotland, UK&quot;</td><td>55.861111</td><td>-4.25</td><td>&quot;Ames, IA&quot;</td><td>42.018056</td><td>-93.62</td><td>6237.63</td></tr></tbody></table></div>"
      ],
      "text/plain": [
       "shape: (2, 7)\n",
       "┌──────────────────────┬───────────┬───────────┬──────────┬───────────┬────────┬────────────────────────┐\n",
       "│ City 1               ┆ Lat 1     ┆ Long 1    ┆ City 2   ┆ Lat 2     ┆ Long 2 ┆ Distance from Web (km) │\n",
       "│ ---                  ┆ ---       ┆ ---       ┆ ---      ┆ ---       ┆ ---    ┆ ---                    │\n",
       "│ str                  ┆ f64       ┆ f64       ┆ str      ┆ f64       ┆ f64    ┆ f64                    │\n",
       "╞══════════════════════╪═══════════╪═══════════╪══════════╪═══════════╪════════╪════════════════════════╡\n",
       "│ Winona, MN           ┆ 44.050556 ┆ -91.66833 ┆ Ames, IA ┆ 42.018056 ┆ -93.62 ┆ 276.48                 │\n",
       "│ Glagow, Scotland, UK ┆ 55.861111 ┆ -4.25     ┆ Ames, IA ┆ 42.018056 ┆ -93.62 ┆ 6237.63                │\n",
       "└──────────────────────┴───────────┴───────────┴──────────┴───────────┴────────┴────────────────────────┘"
      ]
     },
     "execution_count": 61,
     "metadata": {},
     "output_type": "execute_result"
    }
   ],
   "source": [
    "(lat_lng_example :=\n",
    " pl.read_csv(relative_path)\n",
    ")"
   ]
  },
  {
   "cell_type": "markdown",
   "id": "a173049f-b638-426f-adb3-0a9a13251ccb",
   "metadata": {},
   "source": [
    "## Problem 2 - Load the `lat_long_example.csv` file using a absolute address.\n",
    "\n",
    "**Tasks.**\n",
    "1. Open a terminal, start `nu`, and navigate to the root menu of *one of your first/primary data repository,\n",
    "2. Use `glob **/*` to get the absolute address of `lat_long_example.csv`, and\n",
    "3. Use `polars` to load and inspect these data."
   ]
  },
  {
   "cell_type": "code",
   "execution_count": 62,
   "id": "68846b35-bf00-43ee-8de9-893a70a2c389",
   "metadata": {},
   "outputs": [],
   "source": [
    "absolute_path = \"C:/Users/go7567vn/OneDrive - Minnesota State/DSCI 326/health_survey/data/lat_long_examples.csv\""
   ]
  },
  {
   "cell_type": "code",
   "execution_count": 63,
   "id": "92fc5bf7-f898-4ac6-934a-c5fc8e23d365",
   "metadata": {},
   "outputs": [
    {
     "data": {
      "text/html": [
       "<div><style>\n",
       ".dataframe > thead > tr,\n",
       ".dataframe > tbody > tr {\n",
       "  text-align: right;\n",
       "  white-space: pre-wrap;\n",
       "}\n",
       "</style>\n",
       "<small>shape: (2, 7)</small><table border=\"1\" class=\"dataframe\"><thead><tr><th>City 1</th><th>Lat 1</th><th>Long 1</th><th>City 2</th><th>Lat 2</th><th>Long 2</th><th>Distance from Web (km)</th></tr><tr><td>str</td><td>f64</td><td>f64</td><td>str</td><td>f64</td><td>f64</td><td>f64</td></tr></thead><tbody><tr><td>&quot;Winona, MN&quot;</td><td>44.050556</td><td>-91.66833</td><td>&quot;Ames, IA&quot;</td><td>42.018056</td><td>-93.62</td><td>276.48</td></tr><tr><td>&quot;Glagow, Scotland, UK&quot;</td><td>55.861111</td><td>-4.25</td><td>&quot;Ames, IA&quot;</td><td>42.018056</td><td>-93.62</td><td>6237.63</td></tr></tbody></table></div>"
      ],
      "text/plain": [
       "shape: (2, 7)\n",
       "┌──────────────────────┬───────────┬───────────┬──────────┬───────────┬────────┬────────────────────────┐\n",
       "│ City 1               ┆ Lat 1     ┆ Long 1    ┆ City 2   ┆ Lat 2     ┆ Long 2 ┆ Distance from Web (km) │\n",
       "│ ---                  ┆ ---       ┆ ---       ┆ ---      ┆ ---       ┆ ---    ┆ ---                    │\n",
       "│ str                  ┆ f64       ┆ f64       ┆ str      ┆ f64       ┆ f64    ┆ f64                    │\n",
       "╞══════════════════════╪═══════════╪═══════════╪══════════╪═══════════╪════════╪════════════════════════╡\n",
       "│ Winona, MN           ┆ 44.050556 ┆ -91.66833 ┆ Ames, IA ┆ 42.018056 ┆ -93.62 ┆ 276.48                 │\n",
       "│ Glagow, Scotland, UK ┆ 55.861111 ┆ -4.25     ┆ Ames, IA ┆ 42.018056 ┆ -93.62 ┆ 6237.63                │\n",
       "└──────────────────────┴───────────┴───────────┴──────────┴───────────┴────────┴────────────────────────┘"
      ]
     },
     "execution_count": 63,
     "metadata": {},
     "output_type": "execute_result"
    }
   ],
   "source": [
    "(lat_lng_example :=\n",
    " pl.read_csv(absolute_path)\n",
    ")"
   ]
  },
  {
   "cell_type": "markdown",
   "id": "3f658194-ada1-4a12-bca0-2dfda1e00eeb",
   "metadata": {},
   "source": [
    "## Illustrating the problem with absolute addresses\n",
    "\n",
    "While the relative address in problem 1 points to the data IN THIS COPY of the repo, the absolute address points to the data in EXACTLY one of the copies of the repository. This becomes a problem if (A) anything changes in that repository, or (B) we are working on a different machine.\n",
    "\n",
    "**Tasks.** To illustrate why this is a problem, do the following.\n",
    "\n",
    "1. From your first/primary repository commit and push this notebook to GitHub,\n",
    "2. Fetch and pull this notebook to another local copy of the repository,\n",
    "3. In your file explorer (Files or Finder), move your first/primary repository into another folder, e.g., make a new folder and drag-and-drop the repo.\n",
    "4. Rerun the cells in each local copy of the repository and document your findings in the WORD document. "
   ]
  },
  {
   "cell_type": "code",
   "execution_count": 64,
   "id": "419f6e09-a49e-4870-a982-abb2a9190235",
   "metadata": {},
   "outputs": [
    {
     "ename": "SyntaxError",
     "evalue": "invalid syntax (1992136347.py, line 1)",
     "output_type": "error",
     "traceback": [
      "  \u001b[36mCell\u001b[39m\u001b[36m \u001b[39m\u001b[32mIn[64]\u001b[39m\u001b[32m, line 1\u001b[39m\n\u001b[31m    \u001b[39m\u001b[31mQuestion. Why use relative? Answer. Relative paths are preferred for their portability and flexibility. They make projects easier to share and move because they reference files based on their location relative to the current file.\u001b[39m\n                  ^\n\u001b[31mSyntaxError\u001b[39m\u001b[31m:\u001b[39m invalid syntax\n"
     ]
    }
   ],
   "source": [
    "Question. Why use relative? Answer. Relative paths are preferred for their portability and flexibility. They make projects easier to share and move because they reference files based on their location relative to the current file. "
   ]
  },
  {
   "cell_type": "code",
   "execution_count": 65,
   "id": "ad26cf63-bcbf-40d5-9551-584b9d03bdb9",
   "metadata": {},
   "outputs": [
    {
     "ename": "SyntaxError",
     "evalue": "invalid syntax (627713230.py, line 1)",
     "output_type": "error",
     "traceback": [
      "  \u001b[36mCell\u001b[39m\u001b[36m \u001b[39m\u001b[32mIn[65]\u001b[39m\u001b[32m, line 1\u001b[39m\n\u001b[31m    \u001b[39m\u001b[31mHealth Survey Data Managment\u001b[39m\n           ^\n\u001b[31mSyntaxError\u001b[39m\u001b[31m:\u001b[39m invalid syntax\n"
     ]
    }
   ],
   "source": [
    "Health Survey Data Managment"
   ]
  },
  {
   "cell_type": "code",
   "execution_count": 66,
   "id": "50f22611-4131-4888-963e-b2813c755aa8",
   "metadata": {},
   "outputs": [
    {
     "data": {
      "text/html": [
       "<div><style>\n",
       ".dataframe > thead > tr,\n",
       ".dataframe > tbody > tr {\n",
       "  text-align: right;\n",
       "  white-space: pre-wrap;\n",
       "}\n",
       "</style>\n",
       "<small>shape: (5, 45)</small><table border=\"1\" class=\"dataframe\"><thead><tr><th>ID</th><th>F1</th><th>F5</th><th>F2</th><th>F1.1</th><th>F2.1</th><th>F6</th><th>F4</th><th>F3</th><th>F5.1</th><th>F1.2</th><th>F2.2</th><th>F6.1</th><th>F2.3</th><th>F4.1</th><th>F2.4</th><th>F5.2</th><th>F2.5</th><th>F6.2</th><th>F1.3</th><th>F2.6</th><th>F5.3</th><th>F4.2</th><th>F2.7</th><th>F3.1</th><th>F2.8</th><th>F5.4</th><th>F3.2</th><th>F1.4</th><th>F3.3</th><th>F1.5</th><th>F5.5</th><th>F6.3</th><th>F1.6</th><th>F5.6</th><th>F2.9</th><th>F3.4</th><th>F4.3</th><th>F2.10</th><th>F1.7</th><th>F6.4</th><th>F4.4</th><th>F5.7</th><th>F3.5</th><th>F2.11</th></tr><tr><td>i64</td><td>str</td><td>str</td><td>str</td><td>str</td><td>str</td><td>str</td><td>str</td><td>str</td><td>str</td><td>str</td><td>str</td><td>str</td><td>str</td><td>str</td><td>str</td><td>str</td><td>str</td><td>str</td><td>str</td><td>str</td><td>str</td><td>str</td><td>str</td><td>str</td><td>str</td><td>str</td><td>str</td><td>str</td><td>str</td><td>str</td><td>str</td><td>str</td><td>str</td><td>str</td><td>str</td><td>str</td><td>str</td><td>str</td><td>str</td><td>str</td><td>str</td><td>str</td><td>str</td><td>str</td></tr></thead><tbody><tr><td>1</td><td>&quot;Somewhat Agree&quot;</td><td>&quot;Somewhat Disagree&quot;</td><td>&quot;Somewhat Agree&quot;</td><td>&quot;Somewhat Agree&quot;</td><td>&quot;Somewhat Agree&quot;</td><td>&quot;Somewhat Disagree&quot;</td><td>&quot;Somewhat Agree&quot;</td><td>&quot;Somewhat Agree&quot;</td><td>&quot;Somewhat Agree&quot;</td><td>&quot;Somewhat Agree&quot;</td><td>&quot;Somewhat Agree&quot;</td><td>&quot;Somewhat Agree&quot;</td><td>&quot;Somewhat Agree&quot;</td><td>&quot;Somewhat Agree&quot;</td><td>&quot;Somewhat Agree&quot;</td><td>&quot;Somewhat Agree&quot;</td><td>&quot;Somewhat Agree&quot;</td><td>&quot;Somewhat Agree&quot;</td><td>&quot;Somewhat Agree&quot;</td><td>&quot;Somewhat Agree&quot;</td><td>&quot;Somewhat Agree&quot;</td><td>&quot;Somewhat Agree&quot;</td><td>&quot;Somewhat Agree&quot;</td><td>&quot;Somewhat Disagree&quot;</td><td>&quot;Somewhat Agree&quot;</td><td>&quot;Somewhat Agree&quot;</td><td>&quot;Somewhat Agree&quot;</td><td>&quot;Neither Agree nor Disagree&quot;</td><td>&quot;Somewhat Agree&quot;</td><td>&quot;Somewhat Agree&quot;</td><td>&quot;Somewhat Disagree&quot;</td><td>&quot;Somewhat Disagree&quot;</td><td>&quot;Somewhat Agree&quot;</td><td>&quot;Somewhat Agree&quot;</td><td>&quot;Somewhat Agree&quot;</td><td>&quot;Somewhat Disagree&quot;</td><td>&quot;Neither Agree nor Disagree&quot;</td><td>&quot;Somewhat Agree&quot;</td><td>&quot;Somewhat Agree&quot;</td><td>&quot;Somewhat Agree&quot;</td><td>&quot;Somewhat Agree&quot;</td><td>&quot;Somewhat Agree&quot;</td><td>&quot;Somewhat Agree&quot;</td><td>&quot;Somewhat Agree&quot;</td></tr><tr><td>2</td><td>&quot;Somewhat Agree&quot;</td><td>&quot;Somewhat Disagree&quot;</td><td>&quot;Somewhat Agree&quot;</td><td>&quot;Somewhat Agree&quot;</td><td>&quot;Somewhat Agree&quot;</td><td>&quot;Somewhat Disagree&quot;</td><td>&quot;Somewhat Agree&quot;</td><td>&quot;Neither Agree nor Disagree&quot;</td><td>&quot;Neither Agree nor Disagree&quot;</td><td>&quot;Somewhat Agree&quot;</td><td>&quot;Neither Agree nor Disagree&quot;</td><td>&quot;Somewhat Agree&quot;</td><td>&quot;Somewhat Agree&quot;</td><td>&quot;Neither Agree nor Disagree&quot;</td><td>&quot;Somewhat Agree&quot;</td><td>&quot;Somewhat Agree&quot;</td><td>&quot;Somewhat Agree&quot;</td><td>&quot;Somewhat Agree&quot;</td><td>&quot;Somewhat Agree&quot;</td><td>&quot;Somewhat Agree&quot;</td><td>&quot;Somewhat Agree&quot;</td><td>&quot;Somewhat Agree&quot;</td><td>&quot;Somewhat Agree&quot;</td><td>&quot;Neither Agree nor Disagree&quot;</td><td>&quot;Somewhat Agree&quot;</td><td>&quot;Neither Agree nor Disagree&quot;</td><td>&quot;Neither Agree nor Disagree&quot;</td><td>&quot;Somewhat Agree&quot;</td><td>&quot;Neither Agree nor Disagree&quot;</td><td>&quot;Neither Agree nor Disagree&quot;</td><td>&quot;Neither Agree nor Disagree&quot;</td><td>&quot;Somewhat Disagree&quot;</td><td>&quot;Somewhat Agree&quot;</td><td>&quot;Somewhat Disagree&quot;</td><td>&quot;Somewhat Agree&quot;</td><td>&quot;Somewhat Agree&quot;</td><td>&quot;Neither Agree nor Disagree&quot;</td><td>&quot;Somewhat Agree&quot;</td><td>&quot;Somewhat Agree&quot;</td><td>&quot;Somewhat Disagree&quot;</td><td>&quot;Neither Agree nor Disagree&quot;</td><td>&quot;Somewhat Agree&quot;</td><td>&quot;Neither Agree nor Disagree&quot;</td><td>&quot;Somewhat Agree&quot;</td></tr><tr><td>3</td><td>&quot;Strongly Agree&quot;</td><td>&quot;Neither Agree nor Disagree&quot;</td><td>&quot;Somewhat Agree&quot;</td><td>&quot;Strongly Agree&quot;</td><td>&quot;Strongly Agree&quot;</td><td>&quot;Somewhat Disagree&quot;</td><td>&quot;Somewhat Agree&quot;</td><td>&quot;Somewhat Agree&quot;</td><td>&quot;Somewhat Agree&quot;</td><td>&quot;Strongly Agree&quot;</td><td>&quot;Somewhat Agree&quot;</td><td>&quot;Neither Agree nor Disagree&quot;</td><td>&quot;Somewhat Agree&quot;</td><td>&quot;Neither Agree nor Disagree&quot;</td><td>&quot;Somewhat Agree&quot;</td><td>&quot;Somewhat Disagree&quot;</td><td>&quot;Strongly Agree&quot;</td><td>&quot;Somewhat Agree&quot;</td><td>&quot;Strongly Agree&quot;</td><td>&quot;Somewhat Agree&quot;</td><td>&quot;Somewhat Agree&quot;</td><td>&quot;Somewhat Agree&quot;</td><td>null</td><td>&quot;Somewhat Disagree&quot;</td><td>&quot;Somewhat Agree&quot;</td><td>&quot;Somewhat Agree&quot;</td><td>&quot;Somewhat Agree&quot;</td><td>&quot;Somewhat Disagree&quot;</td><td>&quot;Somewhat Agree&quot;</td><td>&quot;Strongly Agree&quot;</td><td>&quot;Somewhat Disagree&quot;</td><td>&quot;Somewhat Disagree&quot;</td><td>&quot;Strongly Agree&quot;</td><td>&quot;Somewhat Disagree&quot;</td><td>&quot;Somewhat Agree&quot;</td><td>&quot;Somewhat Agree&quot;</td><td>&quot;Neither Agree nor Disagree&quot;</td><td>&quot;Somewhat Agree&quot;</td><td>&quot;Somewhat Agree&quot;</td><td>&quot;Somewhat Agree&quot;</td><td>&quot;Somewhat Agree&quot;</td><td>&quot;Strongly Agree&quot;</td><td>&quot;Strongly Disagree&quot;</td><td>&quot;Somewhat Agree&quot;</td></tr><tr><td>4</td><td>&quot;Somewhat Agree&quot;</td><td>&quot;Somewhat Agree&quot;</td><td>&quot;Strongly Agree&quot;</td><td>&quot;Somewhat Agree&quot;</td><td>&quot;Strongly Agree&quot;</td><td>&quot;Neither Agree nor Disagree&quot;</td><td>&quot;Neither Agree nor Disagree&quot;</td><td>&quot;Somewhat Disagree&quot;</td><td>&quot;Somewhat Agree&quot;</td><td>&quot;Strongly Agree&quot;</td><td>&quot;Strongly Agree&quot;</td><td>&quot;Somewhat Agree&quot;</td><td>&quot;Somewhat Agree&quot;</td><td>&quot;Neither Agree nor Disagree&quot;</td><td>&quot;Strongly Agree&quot;</td><td>&quot;Somewhat Disagree&quot;</td><td>&quot;Strongly Agree&quot;</td><td>&quot;Somewhat Agree&quot;</td><td>&quot;Somewhat Agree&quot;</td><td>&quot;Strongly Agree&quot;</td><td>&quot;Somewhat Agree&quot;</td><td>&quot;Somewhat Agree&quot;</td><td>&quot;Somewhat Agree&quot;</td><td>&quot;Somewhat Disagree&quot;</td><td>&quot;Somewhat Agree&quot;</td><td>&quot;Somewhat Agree&quot;</td><td>&quot;Somewhat Disagree&quot;</td><td>&quot;Neither Agree nor Disagree&quot;</td><td>&quot;Somewhat Disagree&quot;</td><td>&quot;Somewhat Agree&quot;</td><td>&quot;Somewhat Disagree&quot;</td><td>&quot;Somewhat Agree&quot;</td><td>&quot;Strongly Agree&quot;</td><td>&quot;Somewhat Disagree&quot;</td><td>&quot;Somewhat Agree&quot;</td><td>&quot;Somewhat Disagree&quot;</td><td>&quot;Somewhat Agree&quot;</td><td>&quot;Somewhat Agree&quot;</td><td>&quot;Neither Agree nor Disagree&quot;</td><td>&quot;Neither Agree nor Disagree&quot;</td><td>&quot;Neither Agree nor Disagree&quot;</td><td>&quot;Somewhat Agree&quot;</td><td>&quot;Somewhat Disagree&quot;</td><td>&quot;Somewhat Agree&quot;</td></tr><tr><td>5</td><td>&quot;Strongly Agree&quot;</td><td>&quot;Strongly Disagree&quot;</td><td>&quot;Neither Agree nor Disagree&quot;</td><td>&quot;Strongly Agree&quot;</td><td>&quot;Somewhat Agree&quot;</td><td>&quot;Strongly Disagree&quot;</td><td>&quot;Strongly Agree&quot;</td><td>&quot;Somewhat Agree&quot;</td><td>&quot;Neither Agree nor Disagree&quot;</td><td>&quot;Strongly Agree&quot;</td><td>&quot;Somewhat Agree&quot;</td><td>&quot;Somewhat Agree&quot;</td><td>&quot;Somewhat Disagree&quot;</td><td>&quot;Neither Agree nor Disagree&quot;</td><td>&quot;Somewhat Agree&quot;</td><td>&quot;Strongly Disagree&quot;</td><td>&quot;Strongly Agree&quot;</td><td>&quot;Strongly Agree&quot;</td><td>&quot;Strongly Agree&quot;</td><td>&quot;Strongly Agree&quot;</td><td>&quot;Strongly Agree&quot;</td><td>&quot;Somewhat Agree&quot;</td><td>&quot;Somewhat Agree&quot;</td><td>&quot;Somewhat Agree&quot;</td><td>&quot;Somewhat Agree&quot;</td><td>&quot;Neither Agree nor Disagree&quot;</td><td>&quot;Somewhat Agree&quot;</td><td>&quot;Somewhat Agree&quot;</td><td>&quot;Somewhat Agree&quot;</td><td>&quot;Somewhat Agree&quot;</td><td>&quot;Strongly Disagree&quot;</td><td>&quot;Neither Agree nor Disagree&quot;</td><td>&quot;Strongly Agree&quot;</td><td>&quot;Strongly Disagree&quot;</td><td>&quot;Somewhat Agree&quot;</td><td>&quot;Somewhat Agree&quot;</td><td>&quot;Neither Agree nor Disagree&quot;</td><td>&quot;Somewhat Agree&quot;</td><td>&quot;Somewhat Agree&quot;</td><td>&quot;Somewhat Agree&quot;</td><td>&quot;Somewhat Agree&quot;</td><td>&quot;Strongly Agree&quot;</td><td>&quot;Somewhat Disagree&quot;</td><td>&quot;Somewhat Agree&quot;</td></tr></tbody></table></div>"
      ],
      "text/plain": [
       "shape: (5, 45)\n",
       "┌─────┬──────────┬─────────────────┬─────────────────┬───┬────────────────┬──────────┬────────────────┬────────────────┐\n",
       "│ ID  ┆ F1       ┆ F5              ┆ F2              ┆ … ┆ F4.4           ┆ F5.7     ┆ F3.5           ┆ F2.11          │\n",
       "│ --- ┆ ---      ┆ ---             ┆ ---             ┆   ┆ ---            ┆ ---      ┆ ---            ┆ ---            │\n",
       "│ i64 ┆ str      ┆ str             ┆ str             ┆   ┆ str            ┆ str      ┆ str            ┆ str            │\n",
       "╞═════╪══════════╪═════════════════╪═════════════════╪═══╪════════════════╪══════════╪════════════════╪════════════════╡\n",
       "│ 1   ┆ Somewhat ┆ Somewhat        ┆ Somewhat Agree  ┆ … ┆ Somewhat Agree ┆ Somewhat ┆ Somewhat Agree ┆ Somewhat Agree │\n",
       "│     ┆ Agree    ┆ Disagree        ┆                 ┆   ┆                ┆ Agree    ┆                ┆                │\n",
       "│ 2   ┆ Somewhat ┆ Somewhat        ┆ Somewhat Agree  ┆ … ┆ Neither Agree  ┆ Somewhat ┆ Neither Agree  ┆ Somewhat Agree │\n",
       "│     ┆ Agree    ┆ Disagree        ┆                 ┆   ┆ nor Disagree   ┆ Agree    ┆ nor Disagree   ┆                │\n",
       "│ 3   ┆ Strongly ┆ Neither Agree   ┆ Somewhat Agree  ┆ … ┆ Somewhat Agree ┆ Strongly ┆ Strongly       ┆ Somewhat Agree │\n",
       "│     ┆ Agree    ┆ nor Disagree    ┆                 ┆   ┆                ┆ Agree    ┆ Disagree       ┆                │\n",
       "│ 4   ┆ Somewhat ┆ Somewhat Agree  ┆ Strongly Agree  ┆ … ┆ Neither Agree  ┆ Somewhat ┆ Somewhat       ┆ Somewhat Agree │\n",
       "│     ┆ Agree    ┆                 ┆                 ┆   ┆ nor Disagree   ┆ Agree    ┆ Disagree       ┆                │\n",
       "│ 5   ┆ Strongly ┆ Strongly        ┆ Neither Agree   ┆ … ┆ Somewhat Agree ┆ Strongly ┆ Somewhat       ┆ Somewhat Agree │\n",
       "│     ┆ Agree    ┆ Disagree        ┆ nor Disagree    ┆   ┆                ┆ Agree    ┆ Disagree       ┆                │\n",
       "└─────┴──────────┴─────────────────┴─────────────────┴───┴────────────────┴──────────┴────────────────┴────────────────┘"
      ]
     },
     "execution_count": 66,
     "metadata": {},
     "output_type": "execute_result"
    }
   ],
   "source": [
    "(survey :=\n",
    " pl.read_csv('./data/health_survey.csv',\n",
    "            )\n",
    ").head()"
   ]
  },
  {
   "cell_type": "code",
   "execution_count": 67,
   "id": "ed2af9e8-f76a-4cfb-a6e5-985114ef0269",
   "metadata": {},
   "outputs": [
    {
     "data": {
      "text/html": [
       "<div><style>\n",
       ".dataframe > thead > tr,\n",
       ".dataframe > tbody > tr {\n",
       "  text-align: right;\n",
       "  white-space: pre-wrap;\n",
       "}\n",
       "</style>\n",
       "<small>shape: (44, 2)</small><table border=\"1\" class=\"dataframe\"><thead><tr><th>Needs Reverse Coding?</th><th>Column Name</th></tr><tr><td>str</td><td>str</td></tr></thead><tbody><tr><td>&quot;No&quot;</td><td>&quot;F1&quot;</td></tr><tr><td>&quot;Yes&quot;</td><td>&quot;F5&quot;</td></tr><tr><td>&quot;No&quot;</td><td>&quot;F2&quot;</td></tr><tr><td>&quot;No&quot;</td><td>&quot;F1.1&quot;</td></tr><tr><td>&quot;No&quot;</td><td>&quot;F2.1&quot;</td></tr><tr><td>&hellip;</td><td>&hellip;</td></tr><tr><td>&quot;Yes&quot;</td><td>&quot;F6.4&quot;</td></tr><tr><td>&quot;No&quot;</td><td>&quot;F4.4&quot;</td></tr><tr><td>&quot;No&quot;</td><td>&quot;F5.7&quot;</td></tr><tr><td>&quot;No&quot;</td><td>&quot;F3.5&quot;</td></tr><tr><td>&quot;No&quot;</td><td>&quot;F2.11&quot;</td></tr></tbody></table></div>"
      ],
      "text/plain": [
       "shape: (44, 2)\n",
       "┌───────────────────────┬─────────────┐\n",
       "│ Needs Reverse Coding? ┆ Column Name │\n",
       "│ ---                   ┆ ---         │\n",
       "│ str                   ┆ str         │\n",
       "╞═══════════════════════╪═════════════╡\n",
       "│ No                    ┆ F1          │\n",
       "│ Yes                   ┆ F5          │\n",
       "│ No                    ┆ F2          │\n",
       "│ No                    ┆ F1.1        │\n",
       "│ No                    ┆ F2.1        │\n",
       "│ …                     ┆ …           │\n",
       "│ Yes                   ┆ F6.4        │\n",
       "│ No                    ┆ F4.4        │\n",
       "│ No                    ┆ F5.7        │\n",
       "│ No                    ┆ F3.5        │\n",
       "│ No                    ┆ F2.11       │\n",
       "└───────────────────────┴─────────────┘"
      ]
     },
     "execution_count": 67,
     "metadata": {},
     "output_type": "execute_result"
    }
   ],
   "source": [
    "(reverse := \n",
    "    pl.read_csv('./data/ReverseCodingItems.csv',\n",
    "             columns=[\"Column Name\", \"Needs Reverse Coding?\"]\n",
    "            )\n",
    ")         "
   ]
  },
  {
   "cell_type": "code",
   "execution_count": 68,
   "id": "5b972123-3094-43bb-8bd2-3c9293293815",
   "metadata": {},
   "outputs": [
    {
     "data": {
      "text/plain": [
       "['Neither Agree nor Disagree',\n",
       " 'Somewhat Agree',\n",
       " None,\n",
       " 'Somewhat Disagree',\n",
       " 'Strongly Agree',\n",
       " 'Strongly Disagree']"
      ]
     },
     "execution_count": 68,
     "metadata": {},
     "output_type": "execute_result"
    }
   ],
   "source": [
    "(survey\n",
    " .drop('ID')\n",
    " .unpivot()['value']\n",
    " .unique()\n",
    " .to_list()\n",
    ")"
   ]
  },
  {
   "cell_type": "code",
   "execution_count": 69,
   "id": "1fc1eb4c-a538-4142-89c6-c7a586ceabaf",
   "metadata": {},
   "outputs": [
    {
     "data": {
      "text/plain": [
       "{'Strongly Agree': 5,\n",
       " 'Somewhat Agree': 4,\n",
       " 'Neither Agree nor Disagree': 3,\n",
       " 'Somewhat Disagree': 2,\n",
       " 'Strongly Disagree': 1}"
      ]
     },
     "execution_count": 69,
     "metadata": {},
     "output_type": "execute_result"
    }
   ],
   "source": [
    "(reg := {'Strongly Agree':5,\n",
    "         'Somewhat Agree':4,\n",
    "         'Neither Agree nor Disagree':3,\n",
    "         'Somewhat Disagree':2,\n",
    "         'Strongly Disagree':1,\n",
    "        }\n",
    ")        "
   ]
  },
  {
   "cell_type": "code",
   "execution_count": 70,
   "id": "a471d333-4aa9-44d7-a21a-28e3b7e203a2",
   "metadata": {},
   "outputs": [
    {
     "data": {
      "text/plain": [
       "{'Strongly Agree': 1,\n",
       " 'Somewhat Agree': 2,\n",
       " 'Neither Agree nor Disagree': 3,\n",
       " 'Somewhat Disagree': 4,\n",
       " 'Strongly Disagree': 5}"
      ]
     },
     "execution_count": 70,
     "metadata": {},
     "output_type": "execute_result"
    }
   ],
   "source": [
    "(rev := {'Strongly Agree':1,\n",
    "         'Somewhat Agree':2,\n",
    "         'Neither Agree nor Disagree':3,\n",
    "         'Somewhat Disagree':4,\n",
    "         'Strongly Disagree':5,\n",
    "        }\n",
    ")        "
   ]
  },
  {
   "cell_type": "code",
   "execution_count": 71,
   "id": "5451e8cc-9f37-4e42-ba5a-4042d06f9e97",
   "metadata": {},
   "outputs": [
    {
     "data": {
      "text/plain": [
       "['F1',\n",
       " 'F5',\n",
       " 'F2',\n",
       " 'F1.1',\n",
       " 'F2.1',\n",
       " 'F6',\n",
       " 'F4',\n",
       " 'F3',\n",
       " 'F5.1',\n",
       " 'F1.2',\n",
       " 'F2.2',\n",
       " 'F6.1',\n",
       " 'F2.3',\n",
       " 'F4.1',\n",
       " 'F2.4',\n",
       " 'F5.2',\n",
       " 'F2.5',\n",
       " 'F6.2',\n",
       " 'F1.3',\n",
       " 'F2.6',\n",
       " 'F5.3',\n",
       " 'F4.2',\n",
       " 'F2.7',\n",
       " 'F3.1',\n",
       " 'F2.8',\n",
       " 'F5.4',\n",
       " 'F3.2',\n",
       " 'F1.4',\n",
       " 'F3.3',\n",
       " 'F1.5',\n",
       " 'F5.5',\n",
       " 'F6.3',\n",
       " 'F1.6',\n",
       " 'F5.6',\n",
       " 'F2.9',\n",
       " 'F3.4',\n",
       " 'F4.3',\n",
       " 'F2.10',\n",
       " 'F1.7',\n",
       " 'F6.4',\n",
       " 'F4.4',\n",
       " 'F5.7',\n",
       " 'F3.5',\n",
       " 'F2.11']"
      ]
     },
     "execution_count": 71,
     "metadata": {},
     "output_type": "execute_result"
    }
   ],
   "source": [
    "(q_cols :=\n",
    " survey.drop('ID').columns\n",
    ")"
   ]
  },
  {
   "cell_type": "code",
   "execution_count": 72,
   "id": "88beab76-ea20-48a4-87fa-b086e3f900e9",
   "metadata": {},
   "outputs": [
    {
     "data": {
      "text/html": [
       "<div><style>\n",
       ".dataframe > thead > tr,\n",
       ".dataframe > tbody > tr {\n",
       "  text-align: right;\n",
       "  white-space: pre-wrap;\n",
       "}\n",
       "</style>\n",
       "<small>shape: (5, 7)</small><table border=\"1\" class=\"dataframe\"><thead><tr><th>ID</th><th>F1</th><th>F5</th><th>F2</th><th>F6</th><th>F4</th><th>F3</th></tr><tr><td>i64</td><td>i64</td><td>i64</td><td>i64</td><td>i64</td><td>i64</td><td>i64</td></tr></thead><tbody><tr><td>1</td><td>31</td><td>28</td><td>48</td><td>18</td><td>17</td><td>20</td></tr><tr><td>2</td><td>31</td><td>27</td><td>47</td><td>20</td><td>17</td><td>19</td></tr><tr><td>3</td><td>36</td><td>32</td><td>46</td><td>17</td><td>18</td><td>19</td></tr><tr><td>4</td><td>32</td><td>30</td><td>54</td><td>16</td><td>15</td><td>12</td></tr><tr><td>5</td><td>37</td><td>36</td><td>47</td><td>19</td><td>19</td><td>22</td></tr></tbody></table></div>"
      ],
      "text/plain": [
       "shape: (5, 7)\n",
       "┌─────┬─────┬─────┬─────┬─────┬─────┬─────┐\n",
       "│ ID  ┆ F1  ┆ F5  ┆ F2  ┆ F6  ┆ F4  ┆ F3  │\n",
       "│ --- ┆ --- ┆ --- ┆ --- ┆ --- ┆ --- ┆ --- │\n",
       "│ i64 ┆ i64 ┆ i64 ┆ i64 ┆ i64 ┆ i64 ┆ i64 │\n",
       "╞═════╪═════╪═════╪═════╪═════╪═════╪═════╡\n",
       "│ 1   ┆ 31  ┆ 28  ┆ 48  ┆ 18  ┆ 17  ┆ 20  │\n",
       "│ 2   ┆ 31  ┆ 27  ┆ 47  ┆ 20  ┆ 17  ┆ 19  │\n",
       "│ 3   ┆ 36  ┆ 32  ┆ 46  ┆ 17  ┆ 18  ┆ 19  │\n",
       "│ 4   ┆ 32  ┆ 30  ┆ 54  ┆ 16  ┆ 15  ┆ 12  │\n",
       "│ 5   ┆ 37  ┆ 36  ┆ 47  ┆ 19  ┆ 19  ┆ 22  │\n",
       "└─────┴─────┴─────┴─────┴─────┴─────┴─────┘"
      ]
     },
     "execution_count": 72,
     "metadata": {},
     "output_type": "execute_result"
    }
   ],
   "source": [
    "(survey\n",
    " .unpivot(on = q_cols,\n",
    "          index='ID',\n",
    "          variable_name='Question',\n",
    "          value_name='Response',\n",
    "         )\n",
    " .with_columns(reg_coding = pl.col('Response')\n",
    "                              .replace(reg)\n",
    "                              .cast(pl.Int64()),\n",
    "                rev_coding = pl.col('Response')\n",
    "                              .replace(rev)\n",
    "                              .cast(pl.Int64()),\n",
    "              )\n",
    " .join(reverse,\n",
    "       left_on = 'Question',\n",
    "       right_on = 'Column Name',\n",
    "       how = 'left')\n",
    " .with_columns(coding = pl.when(pl.col('Needs Reverse Coding?') == 'Yes')\n",
    "                          .then('rev_coding')\n",
    "                          .otherwise('reg_coding'),\n",
    "               q_type = pl.col('Question')\n",
    "                          .str.split('.')\n",
    "                          .list.get(0),\n",
    "              )\n",
    " .pivot(on = 'q_type',\n",
    "        index= 'ID',\n",
    "        values='coding',\n",
    "        aggregate_function='sum',\n",
    "       )\n",
    ").head()"
   ]
  },
  {
   "cell_type": "code",
   "execution_count": 78,
   "id": "db321806-2208-4aaa-845e-5698aecbe70d",
   "metadata": {},
   "outputs": [
    {
     "name": "stdout",
     "output_type": "stream",
     "text": [
      "File successfully written to: ./data\\health_survey_summary.csv\n"
     ]
    }
   ],
   "source": [
    "import os\n",
    "\n",
    "final_df = pl.DataFrame({\n",
    "    'Participant': [1, 2, 3, 4, 5],\n",
    "    'F1': [31, 31, 36, 32, 37],\n",
    "    'F2': [48, 47, 46, 54, 47],\n",
    "    'F3': [20, 19, 19, 12, 22],\n",
    "    'F4': [17, 17, 18, 15, 19],\n",
    "    'F5': [28, 27, 32, 30, 36],\n",
    "    'F6': [18, 20, 17, 16, 19]\n",
    "})\n",
    "\n",
    "# --- Write the resulting table to a CSV file ---\n",
    "output_dir = \"./data\"\n",
    "output_filename = \"health_survey_summary.csv\"\n",
    "output_path = os.path.join(output_dir, output_filename)\n",
    "\n",
    "# Create the data directory if it doesn't exist\n",
    "if not os.path.exists(output_dir):\n",
    "    os.makedirs(output_dir)\n",
    "\n",
    "# Write the Polars DataFrame to the specified CSV file\n",
    "final_df.write_csv(output_path)\n",
    "\n",
    "print(f\"File successfully written to: {output_path}\")"
   ]
  },
  {
   "cell_type": "code",
   "execution_count": null,
   "id": "4e6e5bba-cf6e-4c75-969c-97ed738ea43d",
   "metadata": {},
   "outputs": [],
   "source": []
  }
 ],
 "metadata": {
  "kernelspec": {
   "display_name": "Python 3 (ipykernel)",
   "language": "python",
   "name": "python3"
  },
  "language_info": {
   "codemirror_mode": {
    "name": "ipython",
    "version": 3
   },
   "file_extension": ".py",
   "mimetype": "text/x-python",
   "name": "python",
   "nbconvert_exporter": "python",
   "pygments_lexer": "ipython3",
   "version": "3.12.11"
  }
 },
 "nbformat": 4,
 "nbformat_minor": 5
}
